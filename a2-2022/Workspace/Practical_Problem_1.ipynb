{
 "cells": [
  {
   "cell_type": "code",
   "execution_count": 1,
   "id": "a9ed6b54-f74e-4341-bf36-10d5cc01a09e",
   "metadata": {},
   "outputs": [],
   "source": [
    "import numpy as np\n",
    "import pandas as pd\n",
    "import matplotlib.pyplot as plt"
   ]
  },
  {
   "cell_type": "markdown",
   "id": "20b95bf1",
   "metadata": {},
   "source": [
    "### 1. Phoneme Dataset\n",
    "Load the phoneme dataset using Pandas"
   ]
  },
  {
   "cell_type": "code",
   "execution_count": 2,
   "id": "21c9a895-9863-4a10-9c4b-fcc5dcb21283",
   "metadata": {},
   "outputs": [],
   "source": [
    "import re\n",
    "data = pd.read_csv('data/phoneme.csv')\n",
    "\n",
    "pd.options.mode.chained_assignment = None # Just gonna pretend we're not gettting the error...\n",
    "for observation in range(len(data)):\n",
    "    data['speaker'][observation] = data['speaker'][observation][0:5]\n",
    "\n",
    "grouped = [y for _, y in data.groupby(data['speaker'])]\n",
    "test = grouped[0].loc[:, data.columns.drop(['speaker','row.names'])]\n",
    "train = grouped[1].loc[:, data.columns.drop(['speaker', 'row.names'])]\n",
    "# Split the dataset into a train and test dataset according to column \"speaker\".\n",
    "# Be sure to exclude row number, \"speaker\" and response columns from your features."
   ]
  },
  {
   "cell_type": "markdown",
   "id": "e1545466-f4b8-4dac-aedc-23a28aaa34ba",
   "metadata": {},
   "source": [
    "### 2. LDA modelling\n",
    "Fit an LDA model. Compute and report the train and test error."
   ]
  },
  {
   "cell_type": "code",
   "execution_count": 3,
   "id": "c07740f4-6f7c-4f7f-9186-e808c6a1234a",
   "metadata": {},
   "outputs": [
    {
     "name": "stdout",
     "output_type": "stream",
     "text": [
      "full LDA training score:  0.9440119760479042\n",
      "full LDA training error: ~6%\n",
      "full LDA test score:  0.9195893926432849\n",
      "full LDA test error: ~8.04%\n"
     ]
    }
   ],
   "source": [
    "from sklearn.discriminant_analysis import LinearDiscriminantAnalysis as LDA\n",
    "\n",
    "train_X = train.iloc[:, 0:-1]\n",
    "train_y = train.iloc[:, -1]\n",
    "test_X = test.iloc[:, 0:-1]\n",
    "test_y = test.iloc[:, -1]\n",
    "\n",
    "lda = LDA(n_components=1)\n",
    "lda_train_fit = lda.fit_transform(train_X, train_y)\n",
    "lda_test_predictions = lda.predict(test_X)\n",
    "\n",
    "lda_train_predictions = lda.predict(train_X)\n",
    "\n",
    "lda_train_score = lda.score(train_X, train_y)\n",
    "lda_test_score = lda.score(test_X, test_y)\n",
    "print(\"full LDA training score: \", lda_train_score)\n",
    "print(\"full LDA training error: ~\", round(100*(1 - lda_train_score)), \"%\", sep='')\n",
    "print(\"full LDA test score: \", lda_test_score)\n",
    "print(\"full LDA test error: ~\", round(100*(1 - lda_test_score), 2), \"%\", sep='')"
   ]
  },
  {
   "cell_type": "markdown",
   "id": "6ab66f56-297f-4602-aac9-bf6ea03d322a",
   "metadata": {},
   "source": [
    "### 3. LDA canonical coordinates\n",
    " Plot the projection of the training data onto the first two canonical coordinates of the LDA and report your findings. Investigate the data projected on further dimensions using the \\texttt{dimen} parameter."
   ]
  },
  {
   "cell_type": "code",
   "execution_count": 4,
   "id": "b7100c5d-6304-4720-ac5b-0cba6277b143",
   "metadata": {},
   "outputs": [
    {
     "data": {
      "image/png": "[encoded data removed]",
      "text/plain": [
       "<Figure size 432x288 with 1 Axes>"
      ]
     },
     "metadata": {
      "needs_background": "light"
     },
     "output_type": "display_data"
    }
   ],
   "source": [
    "plt.xlabel('predicted value')\n",
    "plt.ylabel('true value')\n",
    "training = plt.scatter(lda_train_predictions, train_y, marker='.')\n"
   ]
  },
  {
   "cell_type": "markdown",
   "id": "d2205c6e-02cf-4228-8f81-9396308ba0f7",
   "metadata": {},
   "source": [
    "### 4. LDA on \"aa\", \"ao\"\n",
    "Select the two phonemes \"aa\" and \"ao\". Fit an LDA model on this data set and repeat the steps\n",
    "    done in (2)."
   ]
  },
  {
   "cell_type": "code",
   "execution_count": 5,
   "id": "b7709f18-b292-4ae3-a13e-d0424e329ed2",
   "metadata": {},
   "outputs": [
    {
     "name": "stdout",
     "output_type": "stream",
     "text": [
      "full LDA training score:  0.9440119760479042\n",
      "full LDA training error: ~6%\n",
      "full LDA test score:  0.9195893926432849\n",
      "full LDA test error: ~8.04%\n",
      "aa/ao LDA training score:  0.8935837245696401\n",
      "aa/ao LDA training error: ~11%\n",
      "aa/ao LDA test score:  0.785876993166287\n",
      "aa/ao LDA test error: ~21.41%\n"
     ]
    },
    {
     "data": {
      "image/png": "[encoded data removed]",
      "text/plain": [
       "<Figure size 432x288 with 1 Axes>"
      ]
     },
     "metadata": {
      "needs_background": "light"
     },
     "output_type": "display_data"
    }
   ],
   "source": [
    "train_phones = [y for _, y in train.groupby(train['g'])]\n",
    "new_train = pd.DataFrame()\n",
    "new_train = new_train.append(train_phones[0])\n",
    "new_train = new_train.append(train_phones[1])\n",
    "\n",
    "test_phones = [y for _, y in test.groupby(test['g'])]\n",
    "new_test = pd.DataFrame()\n",
    "new_test = new_test.append(test_phones[0])\n",
    "new_test = new_test.append(test_phones[1])\n",
    "\n",
    "new_train_X = new_train.iloc[:, 0:-1]\n",
    "new_train_y = new_train.iloc[:, -1]\n",
    "new_test_X = new_test.iloc[:, 0:-1]\n",
    "new_test_y = new_test.iloc[:, -1]\n",
    "\n",
    "lda = LDA(n_components=1)\n",
    "new_lda_train_fit = lda.fit_transform(new_train_X, new_train_y)\n",
    "new_lda_test_predictions = lda.predict(new_test_X)\n",
    "\n",
    "new_lda_train_predictions = lda.predict(new_train_X)\n",
    "\n",
    "new_training = plt.scatter(new_lda_train_predictions, new_train_y, marker='.')\n",
    "plt.xlabel('predicted value')\n",
    "plt.ylabel('true value')\n",
    "\n",
    "new_train_score = lda.score(new_train_X, new_train_y)\n",
    "new_test_score = lda.score(new_test_X, new_test_y)\n",
    "\n",
    "print(\"full LDA training score: \", lda_train_score)\n",
    "print(\"full LDA training error: ~\", round(100*(1 - lda_train_score)), \"%\", sep='')\n",
    "print(\"full LDA test score: \", lda_test_score)\n",
    "print(\"full LDA test error: ~\", round(100*(1 - lda_test_score), 2), \"%\", sep='')\n",
    "print(\"aa/ao LDA training score: \", new_train_score)\n",
    "print(\"aa/ao LDA training error: ~\", round(100*(1 - new_train_score)), \"%\", sep='')\n",
    "print(\"aa/ao LDA test score: \", new_test_score)\n",
    "print(\"aa/ao LDA test error: ~\", round(100*(1 - new_test_score), 2), \"%\", sep='')"
   ]
  },
  {
   "cell_type": "markdown",
   "id": "2b231d3e",
   "metadata": {},
   "source": [
    "## 5. QDA\n",
    "Repeat steps (b) and (d) using QDA and report your findings. Would you prefer LDA or QDA in this example? Why?"
   ]
  },
  {
   "cell_type": "code",
   "execution_count": 6,
   "id": "52089486",
   "metadata": {},
   "outputs": [
    {
     "name": "stdout",
     "output_type": "stream",
     "text": [
      "full QDA training score:  1.0\n",
      "full QDA training error: ~0%\n",
      "full QDA test score:  0.8417450812660393\n",
      "full QDA test error: ~16%\n",
      "aa/ao QDA training score:  1.0\n",
      "aa/ao QDA training error: ~0%\n",
      "aa/ao QDA test score:  0.6605922551252847\n",
      "aa/ao QDA test error: ~34%\n",
      "vs\n",
      "full LDA training score:  0.9440119760479042\n",
      "full LDA training error: ~6%\n",
      "full LDA test score:  0.9195893926432849\n",
      "full LDA test error: ~8.04%\n",
      "aa/ao LDA training score:  0.8935837245696401\n",
      "aa/ao LDA training error: ~11%\n",
      "aa/ao LDA test score:  0.785876993166287\n",
      "aa/ao LDA test error: ~21.41%\n"
     ]
    }
   ],
   "source": [
    "from sklearn.discriminant_analysis import QuadraticDiscriminantAnalysis as QDA\n",
    "\n",
    "qda = QDA()\n",
    "qda_train_fit = qda.fit(train_X, train_y)\n",
    "qda_test_predictions = qda.predict(test_X)\n",
    "qda_train_score = qda.score(train_X, train_y)\n",
    "qda_test_score = qda.score(test_X, test_y)\n",
    "\n",
    "qda = QDA()\n",
    "new_qda_train_fit = qda.fit(new_train_X, new_train_y)\n",
    "new_qda_test_predictions = qda.predict(new_test_X)\n",
    "new_qda_train_score = qda.score(new_train_X, new_train_y)\n",
    "new_qda_test_score = qda.score(new_test_X, new_test_y)\n",
    "\n",
    "print(\"full QDA training score: \", qda_train_score)\n",
    "print(\"full QDA training error: ~\", round(100*(1 - qda_train_score)), \"%\", sep='')\n",
    "print(\"full QDA test score: \", qda_test_score)\n",
    "print(\"full QDA test error: ~\", round(100*(1 - qda_test_score)), \"%\", sep='')\n",
    "print(\"aa/ao QDA training score: \", new_qda_train_score)\n",
    "print(\"aa/ao QDA training error: ~\", round(100*(1 - new_qda_train_score)), \"%\", sep='')\n",
    "print(\"aa/ao QDA test score: \", new_qda_test_score)\n",
    "print(\"aa/ao QDA test error: ~\", round(100*(1 - new_qda_test_score)), \"%\", sep='')\n",
    "print(\"vs\")\n",
    "print(\"full LDA training score: \", lda_train_score)\n",
    "print(\"full LDA training error: ~\", round(100*(1 - lda_train_score)), \"%\", sep='')\n",
    "print(\"full LDA test score: \", lda_test_score)\n",
    "print(\"full LDA test error: ~\", round(100*(1 - lda_test_score), 2), \"%\", sep='')\n",
    "print(\"aa/ao LDA training score: \", new_train_score)\n",
    "print(\"aa/ao LDA training error: ~\", round(100*(1 - new_train_score)), \"%\", sep='')\n",
    "print(\"aa/ao LDA test score: \", new_test_score)\n",
    "print(\"aa/ao LDA test error: ~\", round(100*(1 - new_test_score), 2), \"%\", sep='')"
   ]
  },
  {
   "cell_type": "markdown",
   "id": "b9449767",
   "metadata": {},
   "source": [
    "### LDA vs QDA discussion:\n",
    "\n",
    "In both the full array, as well as the reduced aa/ao dataset, QDA outperformed LDA when predicting the training data, and underperformed LDA when predicting the test data. This suggests that QDA overfits, and introduces additional variance, resulting in higher error rate."
   ]
  },
  {
   "cell_type": "markdown",
   "id": "019d08a3",
   "metadata": {},
   "source": [
    "## 6. Confusion Matrices\n",
    "Generate confusion matrices for the LDA and QDA model for \"aa\" and \"ao\". Which differences can you observe between the models?"
   ]
  },
  {
   "cell_type": "code",
   "execution_count": 7,
   "id": "468e438b",
   "metadata": {},
   "outputs": [
    {
     "name": "stdout",
     "output_type": "stream",
     "text": [
      "LDA confusion matrix: \n",
      " [[121  55]\n",
      " [ 39 224]]\n",
      "QDA confusion matrix: \n",
      " [[ 29 147]\n",
      " [  2 261]]\n"
     ]
    }
   ],
   "source": [
    "from sklearn.metrics import confusion_matrix as cm\n",
    "\n",
    "true_y = new_test_y\n",
    "lda_predicted_y = new_lda_test_predictions\n",
    "qda_predicted_y = new_qda_test_predictions\n",
    "\n",
    "lda_confusion_matrix = cm(true_y, lda_predicted_y)\n",
    "qda_confusion_matrix = cm(true_y, qda_predicted_y)\n",
    "\n",
    "print(\"LDA confusion matrix: \\n\", lda_confusion_matrix)\n",
    "print(\"QDA confusion matrix: \\n\", qda_confusion_matrix)"
   ]
  },
  {
   "cell_type": "markdown",
   "id": "f5436fa9",
   "metadata": {},
   "source": [
    "For the LDA model, the false aos are roughly equal to the false aas in number, and proportional to the total ao / aa predictions. The LDA misclassifies roughly 1/4 of both its aa and ao predictions.\n",
    "\n",
    "For the QDA model, the model vastly over-predicts ao, with roughly 1/3 misclassification of ao (and only a small increase in correctly predicted ao), and underpredicts aa, but with lower error (roughly 1/15 misclassification)"
   ]
  }
 ],
 "metadata": {
  "kernelspec": {
   "display_name": "Python 3.8.8 ('base')",
   "language": "python",
   "name": "python3"
  },
  "language_info": {
   "codemirror_mode": {
    "name": "ipython",
    "version": 3
   },
   "file_extension": ".py",
   "mimetype": "text/x-python",
   "name": "python",
   "nbconvert_exporter": "python",
   "pygments_lexer": "ipython3",
   "version": "3.8.8"
  },
  "vscode": {
   "interpreter": {
    "hash": "3f56231212a954684e4455fc18e87f1d6f60ff89596aa855e6d309fe16c87e87"
   }
  }
 },
 "nbformat": 4,
 "nbformat_minor": 5
}
