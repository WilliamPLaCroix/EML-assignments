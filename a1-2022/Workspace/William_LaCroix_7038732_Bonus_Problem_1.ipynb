{
 "cells": [
  {
   "cell_type": "code",
   "execution_count": 14,
   "id": "a9ed6b54-f74e-4341-bf36-10d5cc01a09e",
   "metadata": {},
   "outputs": [],
   "source": [
    "import numpy as np\n",
    "import matplotlib.pyplot as plt"
   ]
  },
  {
   "cell_type": "markdown",
   "id": "a3b26fe9-ce6f-4ba2-94f9-71faf5379ad0",
   "metadata": {},
   "source": [
    "### Loading data\n",
    "We first load the problem data."
   ]
  },
  {
   "cell_type": "code",
   "execution_count": 15,
   "id": "4d7c2c37-618c-457e-be39-ab3a7c954a21",
   "metadata": {},
   "outputs": [
    {
     "data": {
      "text/plain": [
       "[<matplotlib.lines.Line2D at 0x1511b1772b0>]"
      ]
     },
     "execution_count": 15,
     "metadata": {},
     "output_type": "execute_result"
    },
    {
     "data": {
      "image/png": "[encoded data removed]",
      "text/plain": [
       "<Figure size 432x288 with 1 Axes>"
      ]
     },
     "metadata": {
      "needs_background": "light"
     },
     "output_type": "display_data"
    }
   ],
   "source": [
    "def load_data():\n",
    "    xy = np.loadtxt('data/y_target.csv', delimiter=\",\")\n",
    "    return xy[:,0],xy[:,1]\n",
    "\n",
    "x,y = load_data()\n",
    "plt.plot(x,y)"
   ]
  },
  {
   "cell_type": "code",
   "execution_count": 84,
   "id": "0298b4e5-f133-4125-87d0-0f56444c4cdb",
   "metadata": {},
   "outputs": [
    {
     "name": "stdout",
     "output_type": "stream",
     "text": [
      "0.9630585783135404 - 2.0231247113168798 T_1(x) - 0.20367882701873 T_2(x) +\n",
      "0.9556355759007689 T_3(x) + 3.7086835857232154 T_4(x)\n",
      "3.0\n"
     ]
    }
   ],
   "source": [
    "from numpy.polynomial import chebyshev as cheb\n",
    "\n",
    "def generate_features(x, deg):\n",
    "    '''This function generates a design matrix of features for each input point in x\n",
    "    \n",
    "    @param x: the input points\n",
    "    @param deg: the maximum degree of the polynomial basis.\n",
    "    @return : the design matrix X of dimensions NxD+1, so that the i-th row is the feature vector of the i-th input.\n",
    "              Each value X_id = f_d(x_i) for the Chebyshev polynomial (of 1st kind) with degree d.\n",
    "    '''\n",
    "    coefs = np.linspace(1, deg+1, deg+1)\n",
    "    something = cheb.Chebyshev.fit(x, y, deg=deg)\n",
    "    #print(something)\n",
    "    features = cheb.Chebyshev(something)\n",
    "    #print(features)\n",
    "    #for _ in range(deg+1):\n",
    "        #features.append(np.polynomial.chebyshev.Chebyshev(coefs))\n",
    "\n",
    "    return features\n",
    "\n",
    "D = 4\n",
    "X = generate_features(x, D)\n",
    "#print(x)\n",
    "#print(y)\n",
    "#print(X)\n",
    "print(X)\n",
    "print(cheb.chebval(X, 3, tensor=True))"
   ]
  },
  {
   "cell_type": "code",
   "execution_count": null,
   "id": "4e2dedbb-1d25-4db4-a528-31837c3e6047",
   "metadata": {},
   "outputs": [
    {
     "ename": "",
     "evalue": "",
     "output_type": "error",
     "traceback": [
      "\u001b[1;31mRunning cells with 'Python 3.6.0 64-bit' requires ipykernel package.\n",
      "\u001b[1;31mRun the following command to install 'ipykernel' into the Python environment. \n",
      "\u001b[1;31mCommand: 'c:/Users/William/AppData/Local/Programs/Python/Python36/python.exe -m pip install ipykernel -U --user --force-reinstall'"
     ]
    }
   ],
   "source": [
    "\n",
    "def fit(X,y):\n",
    "    '''Learns the coefficients of each of the features in the provided matrix that best predicts y.\n",
    "    @param X: the design matrix of features, one feature per row\n",
    "    @param y: the vector of the dependent variable (labels)\n",
    "    @return: vector of coefficients\n",
    "    '''\n",
    "    raise NotImplementedError()\n",
    "\n",
    "def fit_cheb(x,y,D):\n",
    "    '''Learns the coefficients of each of the features in the provided matrix that best predicts y.\n",
    "    @param x: the input points\n",
    "    @param D: maximum depgree of chebyshev polynomials\n",
    "    @param y: the vector of the dependent variable (labels)\n",
    "    @return: vector of coefficients\n",
    "    '''\n",
    "    raise NotImplementedError()\n",
    "    \n",
    "w = fit_cheb(x, y, D)\n",
    "#Check the size of your results:\n",
    "w, X.shape"
   ]
  },
  {
   "cell_type": "code",
   "execution_count": null,
   "id": "1938bdb8-5969-4b34-879f-1c176b41c706",
   "metadata": {},
   "outputs": [
    {
     "ename": "",
     "evalue": "",
     "output_type": "error",
     "traceback": [
      "\u001b[1;31mRunning cells with 'Python 3.6.0 64-bit' requires ipykernel package.\n",
      "\u001b[1;31mRun the following command to install 'ipykernel' into the Python environment. \n",
      "\u001b[1;31mCommand: 'c:/Users/William/AppData/Local/Programs/Python/Python36/python.exe -m pip install ipykernel -U --user --force-reinstall'"
     ]
    }
   ],
   "source": [
    "from utilities import split_data\n",
    "\n",
    "# Now generate a split of the full data into a taining/.testing dataset.\n",
    "# The result is an object with named attributes x_trn, x_tst, t_trn, and y_tst.\n",
    "data = split_data(x, y)"
   ]
  },
  {
   "cell_type": "code",
   "execution_count": null,
   "id": "96227c91-efb9-4856-b0c6-034c0e9daa04",
   "metadata": {},
   "outputs": [
    {
     "ename": "",
     "evalue": "",
     "output_type": "error",
     "traceback": [
      "\u001b[1;31mRunning cells with 'Python 3.6.0 64-bit' requires ipykernel package.\n",
      "\u001b[1;31mRun the following command to install 'ipykernel' into the Python environment. \n",
      "\u001b[1;31mCommand: 'c:/Users/William/AppData/Local/Programs/Python/Python36/python.exe -m pip install ipykernel -U --user --force-reinstall'"
     ]
    }
   ],
   "source": [
    "# Fit on the train data and evalute the RSS on the test data\n",
    "\n",
    "def mse(y,y_pred):\n",
    "    '''Compute the mean squared error of a prediction and its true label.\n",
    "    @param y: vector of true labels\n",
    "    @param y_hat: vector of predictions\n",
    "    @return: the MSE\n",
    "    '''\n",
    "    raise NotImplementedError()\n",
    "    \n",
    "def evaluate_model_on_dataset(data, deg):\n",
    "    '''Evaluate our model on the given training/testing set.\n",
    "    @param data: The object holding the current split.\n",
    "    @param deg: maximum depgree of chebyshev polynomials\n",
    "    @return: the MSE of the predictions returned by the model learned on the training data\n",
    "             as computed against on the testing labels.\n",
    "    '''\n",
    "    raise NotImplementedError()\n",
    "    "
   ]
  },
  {
   "cell_type": "markdown",
   "id": "b429f9ed-216f-4e00-ad77-131a21e10c15",
   "metadata": {},
   "source": [
    "### Evaluation\n",
    "We now evaluate our models for different degrees."
   ]
  },
  {
   "cell_type": "code",
   "execution_count": null,
   "id": "eed47cda-c171-429b-b371-09be8b72d6c3",
   "metadata": {},
   "outputs": [
    {
     "ename": "",
     "evalue": "",
     "output_type": "error",
     "traceback": [
      "\u001b[1;31mRunning cells with 'Python 3.6.0 64-bit' requires ipykernel package.\n",
      "\u001b[1;31mRun the following command to install 'ipykernel' into the Python environment. \n",
      "\u001b[1;31mCommand: 'c:/Users/William/AppData/Local/Programs/Python/Python36/python.exe -m pip install ipykernel -U --user --force-reinstall'"
     ]
    }
   ],
   "source": [
    "degs = np.arange(15)\n",
    "MSEs = np.r_[[evaluate_model_on_dataset(data, deg) for deg in degs]]"
   ]
  },
  {
   "cell_type": "code",
   "execution_count": null,
   "id": "c31c536d-94a4-4086-86ad-f29b6de60962",
   "metadata": {},
   "outputs": [
    {
     "ename": "",
     "evalue": "",
     "output_type": "error",
     "traceback": [
      "\u001b[1;31mRunning cells with 'Python 3.6.0 64-bit' requires ipykernel package.\n",
      "\u001b[1;31mRun the following command to install 'ipykernel' into the Python environment. \n",
      "\u001b[1;31mCommand: 'c:/Users/William/AppData/Local/Programs/Python/Python36/python.exe -m pip install ipykernel -U --user --force-reinstall'"
     ]
    }
   ],
   "source": [
    "plt.bar(degs, MSEs)\n",
    "plt.xlabel('Maximal Degree')\n",
    "plt.ylabel('Mean Squared Error')"
   ]
  },
  {
   "cell_type": "code",
   "execution_count": null,
   "id": "40f1f998-ba6e-4d51-92a4-6597f7440e5c",
   "metadata": {},
   "outputs": [
    {
     "ename": "",
     "evalue": "",
     "output_type": "error",
     "traceback": [
      "\u001b[1;31mRunning cells with 'Python 3.6.0 64-bit' requires ipykernel package.\n",
      "\u001b[1;31mRun the following command to install 'ipykernel' into the Python environment. \n",
      "\u001b[1;31mCommand: 'c:/Users/William/AppData/Local/Programs/Python/Python36/python.exe -m pip install ipykernel -U --user --force-reinstall'"
     ]
    }
   ],
   "source": [
    "from utilities import split_data_around_point\n",
    "data_ap = split_data_around_point(x, y, x_0=0.9)"
   ]
  },
  {
   "cell_type": "markdown",
   "id": "13dec015-2525-4e54-a935-8c8b0c2445d0",
   "metadata": {},
   "source": [
    "### Evaluation (splits)\n",
    "We compare the effect of the two different splits on the generalisation error."
   ]
  },
  {
   "cell_type": "code",
   "execution_count": null,
   "id": "efdd6478-bd18-4f4c-a420-c15851e25c93",
   "metadata": {},
   "outputs": [
    {
     "ename": "",
     "evalue": "",
     "output_type": "error",
     "traceback": [
      "\u001b[1;31mRunning cells with 'Python 3.6.0 64-bit' requires ipykernel package.\n",
      "\u001b[1;31mRun the following command to install 'ipykernel' into the Python environment. \n",
      "\u001b[1;31mCommand: 'c:/Users/William/AppData/Local/Programs/Python/Python36/python.exe -m pip install ipykernel -U --user --force-reinstall'"
     ]
    }
   ],
   "source": [
    "MSEs_ap = np.r_[[evaluate_model_on_dataset(data_ap, deg) for deg in degs]]\n",
    "plt.bar(degs+.2, MSEs, width=.4)\n",
    "plt.bar(degs-.2, MSEs_ap, width=.4)\n",
    "plt.xlabel('Maximal Degree')\n",
    "plt.ylabel('Mean Squared Error')"
   ]
  }
 ],
 "metadata": {
  "kernelspec": {
   "display_name": "Python 3.8.8 ('base')",
   "language": "python",
   "name": "python3"
  },
  "language_info": {
   "codemirror_mode": {
    "name": "ipython",
    "version": 3
   },
   "file_extension": ".py",
   "mimetype": "text/x-python",
   "name": "python",
   "nbconvert_exporter": "python",
   "pygments_lexer": "ipython3",
   "version": "3.8.8"
  },
  "vscode": {
   "interpreter": {
    "hash": "3f56231212a954684e4455fc18e87f1d6f60ff89596aa855e6d309fe16c87e87"
   }
  }
 },
 "nbformat": 4,
 "nbformat_minor": 5
}
