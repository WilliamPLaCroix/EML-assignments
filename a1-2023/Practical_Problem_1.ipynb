{
 "cells": [
  {
   "cell_type": "code",
   "execution_count": 7,
   "id": "a9ed6b54-f74e-4341-bf36-10d5cc01a09e",
   "metadata": {},
   "outputs": [],
   "source": [
    "import numpy as np\n",
    "import pandas as pd\n",
    "import matplotlib.pyplot as plt"
   ]
  },
  {
   "cell_type": "markdown",
   "id": "273b5b7f-ff24-4107-a0f3-59854eeaba7e",
   "metadata": {},
   "source": [
    "# Penguins\n",
    "\n",
    "In this exercise, we will explore the palmerpenguins dataset.\n",
    "\n",
    "\n",
    "*Gorman KB, Williams TD, Fraser WR (2014). Ecological sexual dimorphism and environmental variability within a community of Antarctic penguins (genus Pygoscelis). PLoS ONE 9(3):e90081. https://doi.org/10.1371/journal.pone.0090081*"
   ]
  },
  {
   "cell_type": "markdown",
   "id": "b26ee571",
   "metadata": {},
   "source": [
    "### Part 5.1\n",
    "Load the data. Impute missing values of the numerical features, for example by replacing them with the mean value for the respective feature."
   ]
  },
  {
   "cell_type": "code",
   "execution_count": 13,
   "id": "a4fff19a",
   "metadata": {},
   "outputs": [],
   "source": [
    "path = 'data/penguins.csv' \n",
    "\n",
    "# TODO"
   ]
  },
  {
   "cell_type": "markdown",
   "id": "e1545466-f4b8-4dac-aedc-23a28aaa34ba",
   "metadata": {},
   "source": [
    "### Part 5.2\n",
    "Select only the samples belonging to the species Gentoo. Consider the variables ??`flipper_length_mm`, `body_mass_g`, `bill_length_mm`, `bill_depth_mm` and find the corellations between each pair. "
   ]
  },
  {
   "cell_type": "code",
   "execution_count": 1,
   "id": "c07740f4-6f7c-4f7f-9186-e808c6a1234a",
   "metadata": {},
   "outputs": [],
   "source": [
    "cols = ['flipper_length_mm', \n",
    "        'body_mass_g',\n",
    "        'bill_length_mm', \n",
    "        'bill_depth_mm',]\n",
    "\n",
    "# TODO"
   ]
  },
  {
   "cell_type": "markdown",
   "id": "99e76e9d",
   "metadata": {},
   "source": [
    "Which pair appears to be most highly corellated?"
   ]
  },
  {
   "cell_type": "markdown",
   "id": "9b70d99d",
   "metadata": {},
   "source": [
    "*TODO*"
   ]
  },
  {
   "cell_type": "markdown",
   "id": "6ab66f56-297f-4602-aac9-bf6ea03d322a",
   "metadata": {},
   "source": [
    "### Part 5.3 \n",
    "Fit a linear model predicting `body_mass_g` from  `bill_depth_mm` for the species Gentoo and show the linear parameters."
   ]
  },
  {
   "cell_type": "code",
   "execution_count": 15,
   "id": "b7100c5d-6304-4720-ac5b-0cba6277b143",
   "metadata": {},
   "outputs": [
    {
     "name": "stdout",
     "output_type": "stream",
     "text": [
      "Coefficient: 0, R2-score: 0\n"
     ]
    }
   ],
   "source": [
    "# TODO\n",
    "beta = 0\n",
    "r2 = 0\n",
    "\n",
    "print(f'Coefficient: {np.round(beta, 2)}, R2-score: {np.round(r2, 2)}')"
   ]
  },
  {
   "cell_type": "markdown",
   "id": "1dcf47ae",
   "metadata": {},
   "source": [
    "What are the linear parameters and how do you judge the goodness of fit?"
   ]
  },
  {
   "cell_type": "markdown",
   "id": "6f655c0d",
   "metadata": {},
   "source": [
    "*TODO*"
   ]
  },
  {
   "cell_type": "markdown",
   "id": "d2205c6e-02cf-4228-8f81-9396308ba0f7",
   "metadata": {},
   "source": [
    "### Part 5.4\n",
    "Now consider the pair of variables `body_mass_g`  and  `bill_depth_mm` over *all* penguin species. Perform a hypothesis test on whether there is  \tstatistically significant relationship between the predictors. What problem do you see? *Hint: Consider visualizing the relationship between the variables using a scatterplot.*"
   ]
  },
  {
   "cell_type": "code",
   "execution_count": 24,
   "id": "b7709f18-b292-4ae3-a13e-d0424e329ed2",
   "metadata": {},
   "outputs": [
    {
     "name": "stdout",
     "output_type": "stream",
     "text": [
      "Corel_test(body_mass_g,bill_depth_mm)): None\n"
     ]
    }
   ],
   "source": [
    "x1 = 'body_mass_g'\n",
    "x2 = 'bill_depth_mm' \n",
    "alpha = 0.05\n",
    "\n",
    "\n",
    "# TODO \n",
    "p_val = None\n",
    "print(f'Corel_test({x1},{x2})): {None if p_val is None else p_val<alpha}') "
   ]
  },
  {
   "cell_type": "markdown",
   "id": "be9a04a9",
   "metadata": {},
   "source": [
    "Is there a significant relationship and what problem do you see?"
   ]
  },
  {
   "cell_type": "markdown",
   "id": "165ce20e",
   "metadata": {},
   "source": [
    "*TODO*"
   ]
  },
  {
   "cell_type": "markdown",
   "id": "b8e9a705",
   "metadata": {},
   "source": [
    "### Part 5.5 \n",
    "Consider again the species Gentoo. Suppose we observe a new penguin with bill length of 17. Using the body mass of its four closest neighbors (in terms of the bill lengths), predict the body mass of the new penguin."
   ]
  },
  {
   "cell_type": "code",
   "execution_count": 25,
   "id": "9ce89d2b-fcbb-49ab-a276-a410dabf68f4",
   "metadata": {},
   "outputs": [],
   "source": [
    "# TODO"
   ]
  },
  {
   "cell_type": "markdown",
   "id": "7e4fa00d",
   "metadata": {},
   "source": [
    "### Part 5.6\n",
    "Plot the RSS of a $k$NN regression predicting `body_mass_g`  from  `bill_depth_mm` for different choices of $k$ $(k \\in \\{1, ...,10\\})$."
   ]
  },
  {
   "cell_type": "code",
   "execution_count": 2,
   "id": "9d4642b1-7ee0-433d-906d-22525f9e4491",
   "metadata": {},
   "outputs": [],
   "source": [
    "range_k = range(1,10)\n",
    "\n",
    "#TODO"
   ]
  },
  {
   "cell_type": "markdown",
   "id": "8c3fd08a",
   "metadata": {},
   "source": [
    "Which $k$ would you choose and why?"
   ]
  },
  {
   "cell_type": "markdown",
   "id": "e6833d72",
   "metadata": {},
   "source": [
    "*TODO*"
   ]
  }
 ],
 "metadata": {
  "kernelspec": {
   "display_name": "Python 3 (ipykernel)",
   "language": "python",
   "name": "python3"
  },
  "language_info": {
   "codemirror_mode": {
    "name": "ipython",
    "version": 3
   },
   "file_extension": ".py",
   "mimetype": "text/x-python",
   "name": "python",
   "nbconvert_exporter": "python",
   "pygments_lexer": "ipython3",
   "version": "3.10.10"
  }
 },
 "nbformat": 4,
 "nbformat_minor": 5
}
